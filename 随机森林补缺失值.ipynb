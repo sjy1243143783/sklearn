{
 "cells": [
  {
   "cell_type": "code",
   "execution_count": 1,
   "id": "d2106f86",
   "metadata": {},
   "outputs": [],
   "source": [
    "import numpy as np\n",
    "import pandas as pd\n",
    "import matplotlib.pyplot as plt\n",
    "from sklearn.datasets import load_boston\n",
    "from sklearn.impute import SimpleImputer\n",
    "from sklearn.ensemble import RandomForestRegressor\n",
    "from sklearn.model_selection import cross_val_score\n",
    "import warnings\n",
    "warnings.filterwarnings(\"ignore\")"
   ]
  },
  {
   "cell_type": "code",
   "execution_count": 2,
   "id": "09570bce",
   "metadata": {},
   "outputs": [],
   "source": [
    "dataset=load_boston()"
   ]
  },
  {
   "cell_type": "code",
   "execution_count": 3,
   "id": "789b891d",
   "metadata": {},
   "outputs": [
    {
     "data": {
      "text/plain": [
       "(506, 13)"
      ]
     },
     "execution_count": 3,
     "metadata": {},
     "output_type": "execute_result"
    }
   ],
   "source": [
    "dataset.data.shape"
   ]
  },
  {
   "cell_type": "code",
   "execution_count": 4,
   "id": "f8a101d8",
   "metadata": {},
   "outputs": [
    {
     "data": {
      "text/plain": [
       "array([24. , 21.6, 34.7, 33.4, 36.2, 28.7, 22.9, 27.1, 16.5, 18.9, 15. ,\n",
       "       18.9, 21.7, 20.4, 18.2, 19.9, 23.1, 17.5, 20.2, 18.2, 13.6, 19.6,\n",
       "       15.2, 14.5, 15.6, 13.9, 16.6, 14.8, 18.4, 21. , 12.7, 14.5, 13.2,\n",
       "       13.1, 13.5, 18.9, 20. , 21. , 24.7, 30.8, 34.9, 26.6, 25.3, 24.7,\n",
       "       21.2, 19.3, 20. , 16.6, 14.4, 19.4, 19.7, 20.5, 25. , 23.4, 18.9,\n",
       "       35.4, 24.7, 31.6, 23.3, 19.6, 18.7, 16. , 22.2, 25. , 33. , 23.5,\n",
       "       19.4, 22. , 17.4, 20.9, 24.2, 21.7, 22.8, 23.4, 24.1, 21.4, 20. ,\n",
       "       20.8, 21.2, 20.3, 28. , 23.9, 24.8, 22.9, 23.9, 26.6, 22.5, 22.2,\n",
       "       23.6, 28.7, 22.6, 22. , 22.9, 25. , 20.6, 28.4, 21.4, 38.7, 43.8,\n",
       "       33.2, 27.5, 26.5, 18.6, 19.3, 20.1, 19.5, 19.5, 20.4, 19.8, 19.4,\n",
       "       21.7, 22.8, 18.8, 18.7, 18.5, 18.3, 21.2, 19.2, 20.4, 19.3, 22. ,\n",
       "       20.3, 20.5, 17.3, 18.8, 21.4, 15.7, 16.2, 18. , 14.3, 19.2, 19.6,\n",
       "       23. , 18.4, 15.6, 18.1, 17.4, 17.1, 13.3, 17.8, 14. , 14.4, 13.4,\n",
       "       15.6, 11.8, 13.8, 15.6, 14.6, 17.8, 15.4, 21.5, 19.6, 15.3, 19.4,\n",
       "       17. , 15.6, 13.1, 41.3, 24.3, 23.3, 27. , 50. , 50. , 50. , 22.7,\n",
       "       25. , 50. , 23.8, 23.8, 22.3, 17.4, 19.1, 23.1, 23.6, 22.6, 29.4,\n",
       "       23.2, 24.6, 29.9, 37.2, 39.8, 36.2, 37.9, 32.5, 26.4, 29.6, 50. ,\n",
       "       32. , 29.8, 34.9, 37. , 30.5, 36.4, 31.1, 29.1, 50. , 33.3, 30.3,\n",
       "       34.6, 34.9, 32.9, 24.1, 42.3, 48.5, 50. , 22.6, 24.4, 22.5, 24.4,\n",
       "       20. , 21.7, 19.3, 22.4, 28.1, 23.7, 25. , 23.3, 28.7, 21.5, 23. ,\n",
       "       26.7, 21.7, 27.5, 30.1, 44.8, 50. , 37.6, 31.6, 46.7, 31.5, 24.3,\n",
       "       31.7, 41.7, 48.3, 29. , 24. , 25.1, 31.5, 23.7, 23.3, 22. , 20.1,\n",
       "       22.2, 23.7, 17.6, 18.5, 24.3, 20.5, 24.5, 26.2, 24.4, 24.8, 29.6,\n",
       "       42.8, 21.9, 20.9, 44. , 50. , 36. , 30.1, 33.8, 43.1, 48.8, 31. ,\n",
       "       36.5, 22.8, 30.7, 50. , 43.5, 20.7, 21.1, 25.2, 24.4, 35.2, 32.4,\n",
       "       32. , 33.2, 33.1, 29.1, 35.1, 45.4, 35.4, 46. , 50. , 32.2, 22. ,\n",
       "       20.1, 23.2, 22.3, 24.8, 28.5, 37.3, 27.9, 23.9, 21.7, 28.6, 27.1,\n",
       "       20.3, 22.5, 29. , 24.8, 22. , 26.4, 33.1, 36.1, 28.4, 33.4, 28.2,\n",
       "       22.8, 20.3, 16.1, 22.1, 19.4, 21.6, 23.8, 16.2, 17.8, 19.8, 23.1,\n",
       "       21. , 23.8, 23.1, 20.4, 18.5, 25. , 24.6, 23. , 22.2, 19.3, 22.6,\n",
       "       19.8, 17.1, 19.4, 22.2, 20.7, 21.1, 19.5, 18.5, 20.6, 19. , 18.7,\n",
       "       32.7, 16.5, 23.9, 31.2, 17.5, 17.2, 23.1, 24.5, 26.6, 22.9, 24.1,\n",
       "       18.6, 30.1, 18.2, 20.6, 17.8, 21.7, 22.7, 22.6, 25. , 19.9, 20.8,\n",
       "       16.8, 21.9, 27.5, 21.9, 23.1, 50. , 50. , 50. , 50. , 50. , 13.8,\n",
       "       13.8, 15. , 13.9, 13.3, 13.1, 10.2, 10.4, 10.9, 11.3, 12.3,  8.8,\n",
       "        7.2, 10.5,  7.4, 10.2, 11.5, 15.1, 23.2,  9.7, 13.8, 12.7, 13.1,\n",
       "       12.5,  8.5,  5. ,  6.3,  5.6,  7.2, 12.1,  8.3,  8.5,  5. , 11.9,\n",
       "       27.9, 17.2, 27.5, 15. , 17.2, 17.9, 16.3,  7. ,  7.2,  7.5, 10.4,\n",
       "        8.8,  8.4, 16.7, 14.2, 20.8, 13.4, 11.7,  8.3, 10.2, 10.9, 11. ,\n",
       "        9.5, 14.5, 14.1, 16.1, 14.3, 11.7, 13.4,  9.6,  8.7,  8.4, 12.8,\n",
       "       10.5, 17.1, 18.4, 15.4, 10.8, 11.8, 14.9, 12.6, 14.1, 13. , 13.4,\n",
       "       15.2, 16.1, 17.8, 14.9, 14.1, 12.7, 13.5, 14.9, 20. , 16.4, 17.7,\n",
       "       19.5, 20.2, 21.4, 19.9, 19. , 19.1, 19.1, 20.1, 19.9, 19.6, 23.2,\n",
       "       29.8, 13.8, 13.3, 16.7, 12. , 14.6, 21.4, 23. , 23.7, 25. , 21.8,\n",
       "       20.6, 21.2, 19.1, 20.6, 15.2,  7. ,  8.1, 13.6, 20.1, 21.8, 24.5,\n",
       "       23.1, 19.7, 18.3, 21.2, 17.5, 16.8, 22.4, 20.6, 23.9, 22. , 11.9])"
      ]
     },
     "execution_count": 4,
     "metadata": {},
     "output_type": "execute_result"
    }
   ],
   "source": [
    "dataset.target"
   ]
  },
  {
   "cell_type": "code",
   "execution_count": 5,
   "id": "9045693c",
   "metadata": {},
   "outputs": [],
   "source": [
    "X_full,y_full=dataset.data,dataset.target"
   ]
  },
  {
   "cell_type": "code",
   "execution_count": 6,
   "id": "c29f8010",
   "metadata": {},
   "outputs": [],
   "source": [
    "n_samples=X_full.shape[0]#样本数量\n",
    "n_features=X_full.shape[1]#标签数量"
   ]
  },
  {
   "cell_type": "code",
   "execution_count": 7,
   "id": "6294d331",
   "metadata": {},
   "outputs": [
    {
     "data": {
      "text/plain": [
       "506"
      ]
     },
     "execution_count": 7,
     "metadata": {},
     "output_type": "execute_result"
    }
   ],
   "source": [
    "n_samples"
   ]
  },
  {
   "cell_type": "code",
   "execution_count": 8,
   "id": "512d4f00",
   "metadata": {},
   "outputs": [
    {
     "data": {
      "text/plain": [
       "13"
      ]
     },
     "execution_count": 8,
     "metadata": {},
     "output_type": "execute_result"
    }
   ],
   "source": [
    "n_features"
   ]
  },
  {
   "cell_type": "code",
   "execution_count": 9,
   "id": "1c559576",
   "metadata": {},
   "outputs": [
    {
     "data": {
      "text/plain": [
       "3289"
      ]
     },
     "execution_count": 9,
     "metadata": {},
     "output_type": "execute_result"
    }
   ],
   "source": [
    "#首先确定我们希望放入的缺失数据的比例，在这里我们假设是50%，那总共就要有3289个数据缺失\n",
    "rng=np.random.RandomState(0)\n",
    "missing_state=0.5\n",
    "n_missing_samples=int(np.floor(n_samples*n_features*missing_state))\n",
    "#np.floor向下取整，返回.0格式的浮点数\n",
    "n_missing_samples"
   ]
  },
  {
   "cell_type": "code",
   "execution_count": 10,
   "id": "d4410382",
   "metadata": {},
   "outputs": [],
   "source": [
    "#所有数据要随机遍布在数据集的各行各列当中，而一个缺失的数据会需要一个行索引和一个列索引\n",
    "#如果能够创造一个数组，包含3289个分布在0~506中间的行索引，和3289个分布在0~13之间的列索引\n",
    "#，那我们就可以利用索引来为数据中的任意3289个位置赋空值\n",
    "#然后我们用0，均值和随机森林来填写这些缺失值，然后查看回归的结果如何"
   ]
  },
  {
   "cell_type": "code",
   "execution_count": 11,
   "id": "2178b54a",
   "metadata": {},
   "outputs": [],
   "source": [
    "missing_features=rng.randint(0,n_features,n_missing_samples)\n",
    "#randint(上限，下限，n)请在下限和上限之间取出n个整数\n",
    "missing_samples=rng.randint(0,n_samples,n_missing_samples)\n",
    "#我们现在采样了3289个数据，远远超过我们的样本量506，所以我们使用随机抽取的函数randint。但如果我们需要\n",
    "#的数据量小于我们的样本量506，那我们可以采用np.random.choice来抽样，choice会随机抽取不重复的随机数，\n",
    "#因此可以帮助我们让数据更加分散，确保数据不会集中在一些行中"
   ]
  },
  {
   "cell_type": "code",
   "execution_count": 12,
   "id": "7df2da6e",
   "metadata": {},
   "outputs": [
    {
     "data": {
      "text/plain": [
       "array([12,  5,  0, ..., 11,  0,  2])"
      ]
     },
     "execution_count": 12,
     "metadata": {},
     "output_type": "execute_result"
    }
   ],
   "source": [
    "missing_features"
   ]
  },
  {
   "cell_type": "code",
   "execution_count": 13,
   "id": "f093af75",
   "metadata": {},
   "outputs": [
    {
     "data": {
      "text/plain": [
       "array([150, 125,  28, ..., 132, 456, 402])"
      ]
     },
     "execution_count": 13,
     "metadata": {},
     "output_type": "execute_result"
    }
   ],
   "source": [
    "missing_samples"
   ]
  },
  {
   "cell_type": "code",
   "execution_count": 14,
   "id": "ad09afea",
   "metadata": {},
   "outputs": [
    {
     "data": {
      "text/plain": [
       "array([[6.3200e-03, 1.8000e+01, 2.3100e+00, ..., 1.5300e+01, 3.9690e+02,\n",
       "        4.9800e+00],\n",
       "       [2.7310e-02, 0.0000e+00, 7.0700e+00, ..., 1.7800e+01, 3.9690e+02,\n",
       "        9.1400e+00],\n",
       "       [2.7290e-02, 0.0000e+00, 7.0700e+00, ..., 1.7800e+01, 3.9283e+02,\n",
       "        4.0300e+00],\n",
       "       ...,\n",
       "       [6.0760e-02, 0.0000e+00, 1.1930e+01, ..., 2.1000e+01, 3.9690e+02,\n",
       "        5.6400e+00],\n",
       "       [1.0959e-01, 0.0000e+00, 1.1930e+01, ..., 2.1000e+01, 3.9345e+02,\n",
       "        6.4800e+00],\n",
       "       [4.7410e-02, 0.0000e+00, 1.1930e+01, ..., 2.1000e+01, 3.9690e+02,\n",
       "        7.8800e+00]])"
      ]
     },
     "execution_count": 14,
     "metadata": {},
     "output_type": "execute_result"
    }
   ],
   "source": [
    "X_missing=X_full.copy()\n",
    "X_missing"
   ]
  },
  {
   "cell_type": "code",
   "execution_count": 15,
   "id": "89a884a4",
   "metadata": {},
   "outputs": [],
   "source": [
    "y_missing=y_full.copy()"
   ]
  },
  {
   "cell_type": "code",
   "execution_count": 16,
   "id": "b8d68777",
   "metadata": {},
   "outputs": [],
   "source": [
    "X_missing[missing_samples,missing_features]=np.nan"
   ]
  },
  {
   "cell_type": "code",
   "execution_count": 17,
   "id": "aaea1657",
   "metadata": {},
   "outputs": [
    {
     "data": {
      "text/plain": [
       "array([[       nan, 1.8000e+01,        nan, ...,        nan,        nan,\n",
       "        4.9800e+00],\n",
       "       [2.7310e-02, 0.0000e+00,        nan, ...,        nan, 3.9690e+02,\n",
       "        9.1400e+00],\n",
       "       [2.7290e-02,        nan, 7.0700e+00, ...,        nan,        nan,\n",
       "               nan],\n",
       "       ...,\n",
       "       [       nan,        nan, 1.1930e+01, ..., 2.1000e+01,        nan,\n",
       "        5.6400e+00],\n",
       "       [1.0959e-01, 0.0000e+00, 1.1930e+01, ..., 2.1000e+01, 3.9345e+02,\n",
       "        6.4800e+00],\n",
       "       [4.7410e-02, 0.0000e+00, 1.1930e+01, ...,        nan, 3.9690e+02,\n",
       "        7.8800e+00]])"
      ]
     },
     "execution_count": 17,
     "metadata": {},
     "output_type": "execute_result"
    }
   ],
   "source": [
    "X_missing"
   ]
  },
  {
   "cell_type": "code",
   "execution_count": 18,
   "id": "2b373bca",
   "metadata": {},
   "outputs": [],
   "source": [
    "X_missing=pd.DataFrame(X_missing)"
   ]
  },
  {
   "cell_type": "code",
   "execution_count": 19,
   "id": "b0d3b0d3",
   "metadata": {},
   "outputs": [],
   "source": [
    "#填补缺失值"
   ]
  },
  {
   "cell_type": "code",
   "execution_count": 20,
   "id": "65b9b694",
   "metadata": {},
   "outputs": [],
   "source": [
    "from sklearn.impute import SimpleImputer\n",
    "#使用均值填补\n",
    "imp_mean = SimpleImputer(missing_values=np.nan, strategy='mean')#实例化\n",
    "X_missing_mean = imp_mean.fit_transform(X_missing)#训练加导出"
   ]
  },
  {
   "cell_type": "code",
   "execution_count": 21,
   "id": "46655752",
   "metadata": {},
   "outputs": [],
   "source": [
    "#使用0填补\n",
    "imp_0= SimpleImputer(missing_values=np.nan, strategy='constant',fill_value=0)\n",
    "X_missing_0 = imp_mean.fit_transform(X_missing)"
   ]
  },
  {
   "cell_type": "code",
   "execution_count": 22,
   "id": "a5a8c33b",
   "metadata": {},
   "outputs": [],
   "source": [
    "#使用随机森林"
   ]
  },
  {
   "cell_type": "code",
   "execution_count": 23,
   "id": "8274f848",
   "metadata": {},
   "outputs": [],
   "source": [
    "X_missing_reg=X_missing.copy()"
   ]
  },
  {
   "cell_type": "code",
   "execution_count": 24,
   "id": "3fc5d50a",
   "metadata": {},
   "outputs": [],
   "source": [
    "#缺失值从少到多的顺序\n",
    "sortindex=np.argsort(X_missing_reg.isnull().sum(axis=0)).values#argsort 返回的是缺失值数量对应的索引"
   ]
  },
  {
   "cell_type": "code",
   "execution_count": 25,
   "id": "ecb42032",
   "metadata": {},
   "outputs": [],
   "source": [
    "for i in sortindex:\n",
    "    \n",
    "    #构建我们的新特征矩阵（没有被选中去填充的特征 + 原始的标签）和新标签（被选中去填充的特征）\n",
    "    df = X_missing_reg\n",
    "    fillc = df.iloc[:,i]#新标签\n",
    "    df = pd.concat([df.iloc[:,df.columns != i],pd.DataFrame(y_full)],axis=1)#新特征矩阵\n",
    "    \n",
    "    #在新特征矩阵中，对含有缺失值的列，进行0的填补\n",
    "    df_0 =SimpleImputer(missing_values=np.nan,strategy='constant',fill_value=0).fit_transform(df)\n",
    "                        \n",
    "    #找出我们的训练集和测试集\n",
    "    Ytrain = fillc[fillc.notnull()]# Ytrain是被选中要填充的特征中（现在是我们的标签），存在的那些值：非空值\n",
    "    Ytest = fillc[fillc.isnull()]#Ytest 是被选中要填充的特征中（现在是我们的标签），不存在的那些值：空值。注意我们需要的不是Ytest的值，需要的是Ytest所带的索引\n",
    "    Xtrain = df_0[Ytrain.index,:]#在新特征矩阵上，被选出来的要填充的特征的非空值所对应的记录\n",
    "    Xtest = df_0[Ytest.index,:]#在新特征矩阵上，被选出来的要填充的特征的空值所对应的记录\n",
    "    \n",
    "    #用随机森林回归来填补缺失值\n",
    "    rfc = RandomForestRegressor(n_estimators=100)#实例化\n",
    "    rfc = rfc.fit(Xtrain, Ytrain)#导入训练集进行训练\n",
    "    Ypredict = rfc.predict(Xtest)#用predict接口将Xtest导入，得到我们的预测结果（回归结果），就是我们要用来填补空值的这些值\n",
    "    \n",
    "    #将填补好的特征返回到我们的原始的特征矩阵中\n",
    "    X_missing_reg.loc[X_missing_reg.iloc[:,i].isnull(),i] = Ypredict"
   ]
  },
  {
   "cell_type": "code",
   "execution_count": 26,
   "id": "bc5bfc85",
   "metadata": {},
   "outputs": [
    {
     "data": {
      "text/html": [
       "<div>\n",
       "<style scoped>\n",
       "    .dataframe tbody tr th:only-of-type {\n",
       "        vertical-align: middle;\n",
       "    }\n",
       "\n",
       "    .dataframe tbody tr th {\n",
       "        vertical-align: top;\n",
       "    }\n",
       "\n",
       "    .dataframe thead th {\n",
       "        text-align: right;\n",
       "    }\n",
       "</style>\n",
       "<table border=\"1\" class=\"dataframe\">\n",
       "  <thead>\n",
       "    <tr style=\"text-align: right;\">\n",
       "      <th></th>\n",
       "      <th>0</th>\n",
       "      <th>1</th>\n",
       "      <th>2</th>\n",
       "      <th>3</th>\n",
       "      <th>4</th>\n",
       "      <th>5</th>\n",
       "      <th>6</th>\n",
       "      <th>7</th>\n",
       "      <th>8</th>\n",
       "      <th>9</th>\n",
       "      <th>10</th>\n",
       "      <th>11</th>\n",
       "      <th>12</th>\n",
       "    </tr>\n",
       "  </thead>\n",
       "  <tbody>\n",
       "    <tr>\n",
       "      <th>0</th>\n",
       "      <td>0.309451</td>\n",
       "      <td>18.00</td>\n",
       "      <td>6.4172</td>\n",
       "      <td>0.12</td>\n",
       "      <td>0.538000</td>\n",
       "      <td>6.71413</td>\n",
       "      <td>65.200</td>\n",
       "      <td>4.090000</td>\n",
       "      <td>1.00</td>\n",
       "      <td>296.00</td>\n",
       "      <td>18.084</td>\n",
       "      <td>390.2334</td>\n",
       "      <td>4.9800</td>\n",
       "    </tr>\n",
       "    <tr>\n",
       "      <th>1</th>\n",
       "      <td>0.027310</td>\n",
       "      <td>0.00</td>\n",
       "      <td>5.5450</td>\n",
       "      <td>0.00</td>\n",
       "      <td>0.469000</td>\n",
       "      <td>6.14344</td>\n",
       "      <td>78.900</td>\n",
       "      <td>4.967100</td>\n",
       "      <td>2.00</td>\n",
       "      <td>304.47</td>\n",
       "      <td>18.279</td>\n",
       "      <td>396.9000</td>\n",
       "      <td>9.1400</td>\n",
       "    </tr>\n",
       "    <tr>\n",
       "      <th>2</th>\n",
       "      <td>0.027290</td>\n",
       "      <td>16.02</td>\n",
       "      <td>7.0700</td>\n",
       "      <td>0.00</td>\n",
       "      <td>0.461598</td>\n",
       "      <td>7.18500</td>\n",
       "      <td>61.100</td>\n",
       "      <td>4.162324</td>\n",
       "      <td>2.00</td>\n",
       "      <td>242.00</td>\n",
       "      <td>17.921</td>\n",
       "      <td>384.8937</td>\n",
       "      <td>4.7704</td>\n",
       "    </tr>\n",
       "    <tr>\n",
       "      <th>3</th>\n",
       "      <td>0.081036</td>\n",
       "      <td>17.91</td>\n",
       "      <td>2.8607</td>\n",
       "      <td>0.00</td>\n",
       "      <td>0.458000</td>\n",
       "      <td>6.93289</td>\n",
       "      <td>45.800</td>\n",
       "      <td>4.959707</td>\n",
       "      <td>3.33</td>\n",
       "      <td>222.00</td>\n",
       "      <td>18.700</td>\n",
       "      <td>394.5553</td>\n",
       "      <td>5.6689</td>\n",
       "    </tr>\n",
       "    <tr>\n",
       "      <th>4</th>\n",
       "      <td>0.069100</td>\n",
       "      <td>0.00</td>\n",
       "      <td>2.1800</td>\n",
       "      <td>0.00</td>\n",
       "      <td>0.467460</td>\n",
       "      <td>7.14700</td>\n",
       "      <td>59.171</td>\n",
       "      <td>5.055527</td>\n",
       "      <td>3.44</td>\n",
       "      <td>228.01</td>\n",
       "      <td>18.700</td>\n",
       "      <td>394.1984</td>\n",
       "      <td>5.3300</td>\n",
       "    </tr>\n",
       "    <tr>\n",
       "      <th>...</th>\n",
       "      <td>...</td>\n",
       "      <td>...</td>\n",
       "      <td>...</td>\n",
       "      <td>...</td>\n",
       "      <td>...</td>\n",
       "      <td>...</td>\n",
       "      <td>...</td>\n",
       "      <td>...</td>\n",
       "      <td>...</td>\n",
       "      <td>...</td>\n",
       "      <td>...</td>\n",
       "      <td>...</td>\n",
       "      <td>...</td>\n",
       "    </tr>\n",
       "    <tr>\n",
       "      <th>501</th>\n",
       "      <td>0.463504</td>\n",
       "      <td>2.30</td>\n",
       "      <td>10.0906</td>\n",
       "      <td>0.00</td>\n",
       "      <td>0.573000</td>\n",
       "      <td>6.17791</td>\n",
       "      <td>69.100</td>\n",
       "      <td>2.973695</td>\n",
       "      <td>1.00</td>\n",
       "      <td>289.52</td>\n",
       "      <td>21.000</td>\n",
       "      <td>391.1198</td>\n",
       "      <td>9.6700</td>\n",
       "    </tr>\n",
       "    <tr>\n",
       "      <th>502</th>\n",
       "      <td>0.045270</td>\n",
       "      <td>0.00</td>\n",
       "      <td>11.9300</td>\n",
       "      <td>0.00</td>\n",
       "      <td>0.573000</td>\n",
       "      <td>6.12000</td>\n",
       "      <td>76.700</td>\n",
       "      <td>2.287500</td>\n",
       "      <td>1.00</td>\n",
       "      <td>273.00</td>\n",
       "      <td>19.162</td>\n",
       "      <td>396.9000</td>\n",
       "      <td>9.0800</td>\n",
       "    </tr>\n",
       "    <tr>\n",
       "      <th>503</th>\n",
       "      <td>0.788188</td>\n",
       "      <td>1.32</td>\n",
       "      <td>11.9300</td>\n",
       "      <td>0.15</td>\n",
       "      <td>0.573000</td>\n",
       "      <td>6.97600</td>\n",
       "      <td>91.000</td>\n",
       "      <td>2.753048</td>\n",
       "      <td>4.39</td>\n",
       "      <td>364.15</td>\n",
       "      <td>21.000</td>\n",
       "      <td>381.1755</td>\n",
       "      <td>5.6400</td>\n",
       "    </tr>\n",
       "    <tr>\n",
       "      <th>504</th>\n",
       "      <td>0.109590</td>\n",
       "      <td>0.00</td>\n",
       "      <td>11.9300</td>\n",
       "      <td>0.06</td>\n",
       "      <td>0.573000</td>\n",
       "      <td>6.27787</td>\n",
       "      <td>89.300</td>\n",
       "      <td>2.796667</td>\n",
       "      <td>1.00</td>\n",
       "      <td>267.66</td>\n",
       "      <td>21.000</td>\n",
       "      <td>393.4500</td>\n",
       "      <td>6.4800</td>\n",
       "    </tr>\n",
       "    <tr>\n",
       "      <th>505</th>\n",
       "      <td>0.047410</td>\n",
       "      <td>0.00</td>\n",
       "      <td>11.9300</td>\n",
       "      <td>0.00</td>\n",
       "      <td>0.573000</td>\n",
       "      <td>6.03000</td>\n",
       "      <td>87.016</td>\n",
       "      <td>3.034252</td>\n",
       "      <td>1.00</td>\n",
       "      <td>318.18</td>\n",
       "      <td>18.477</td>\n",
       "      <td>396.9000</td>\n",
       "      <td>7.8800</td>\n",
       "    </tr>\n",
       "  </tbody>\n",
       "</table>\n",
       "<p>506 rows × 13 columns</p>\n",
       "</div>"
      ],
      "text/plain": [
       "           0      1        2     3         4        5       6         7   \\\n",
       "0    0.309451  18.00   6.4172  0.12  0.538000  6.71413  65.200  4.090000   \n",
       "1    0.027310   0.00   5.5450  0.00  0.469000  6.14344  78.900  4.967100   \n",
       "2    0.027290  16.02   7.0700  0.00  0.461598  7.18500  61.100  4.162324   \n",
       "3    0.081036  17.91   2.8607  0.00  0.458000  6.93289  45.800  4.959707   \n",
       "4    0.069100   0.00   2.1800  0.00  0.467460  7.14700  59.171  5.055527   \n",
       "..        ...    ...      ...   ...       ...      ...     ...       ...   \n",
       "501  0.463504   2.30  10.0906  0.00  0.573000  6.17791  69.100  2.973695   \n",
       "502  0.045270   0.00  11.9300  0.00  0.573000  6.12000  76.700  2.287500   \n",
       "503  0.788188   1.32  11.9300  0.15  0.573000  6.97600  91.000  2.753048   \n",
       "504  0.109590   0.00  11.9300  0.06  0.573000  6.27787  89.300  2.796667   \n",
       "505  0.047410   0.00  11.9300  0.00  0.573000  6.03000  87.016  3.034252   \n",
       "\n",
       "       8       9       10        11      12  \n",
       "0    1.00  296.00  18.084  390.2334  4.9800  \n",
       "1    2.00  304.47  18.279  396.9000  9.1400  \n",
       "2    2.00  242.00  17.921  384.8937  4.7704  \n",
       "3    3.33  222.00  18.700  394.5553  5.6689  \n",
       "4    3.44  228.01  18.700  394.1984  5.3300  \n",
       "..    ...     ...     ...       ...     ...  \n",
       "501  1.00  289.52  21.000  391.1198  9.6700  \n",
       "502  1.00  273.00  19.162  396.9000  9.0800  \n",
       "503  4.39  364.15  21.000  381.1755  5.6400  \n",
       "504  1.00  267.66  21.000  393.4500  6.4800  \n",
       "505  1.00  318.18  18.477  396.9000  7.8800  \n",
       "\n",
       "[506 rows x 13 columns]"
      ]
     },
     "execution_count": 26,
     "metadata": {},
     "output_type": "execute_result"
    }
   ],
   "source": [
    "X_missing_reg"
   ]
  },
  {
   "cell_type": "code",
   "execution_count": 27,
   "id": "513a3a22",
   "metadata": {},
   "outputs": [],
   "source": [
    "X = [X_full,X_missing_mean,X_missing_0,X_missing_reg]\n",
    " \n",
    "mse = []\n",
    "std = []\n",
    "for x in X:\n",
    "    estimator = RandomForestRegressor(random_state=0, n_estimators=100)#实例化\n",
    "    scores = cross_val_score(estimator,x,y_full,scoring='neg_mean_squared_error', cv=5).mean()\n",
    "    mse.append(scores * -1)"
   ]
  },
  {
   "cell_type": "code",
   "execution_count": 28,
   "id": "7c4f03de",
   "metadata": {},
   "outputs": [
    {
     "data": {
      "text/plain": [
       "[21.571667100368845, 40.848037216676374, 40.848037216676374, 17.67586856682197]"
      ]
     },
     "execution_count": 28,
     "metadata": {},
     "output_type": "execute_result"
    }
   ],
   "source": [
    "mse"
   ]
  },
  {
   "cell_type": "code",
   "execution_count": 29,
   "id": "f0b74961",
   "metadata": {},
   "outputs": [
    {
     "data": {
      "text/plain": [
       "[('Full data', 21.571667100368845),\n",
       " ('Zero Imputation', 40.848037216676374),\n",
       " ('Mean Imputation', 40.848037216676374),\n",
       " ('Regressor Imputation', 17.67586856682197)]"
      ]
     },
     "execution_count": 29,
     "metadata": {},
     "output_type": "execute_result"
    }
   ],
   "source": [
    "[*zip(['Full data','Zero Imputation','Mean Imputation','Regressor Imputation'],mse)]"
   ]
  },
  {
   "cell_type": "code",
   "execution_count": null,
   "id": "5a580429",
   "metadata": {},
   "outputs": [],
   "source": []
  }
 ],
 "metadata": {
  "kernelspec": {
   "display_name": "Python 3 (ipykernel)",
   "language": "python",
   "name": "python3"
  },
  "language_info": {
   "codemirror_mode": {
    "name": "ipython",
    "version": 3
   },
   "file_extension": ".py",
   "mimetype": "text/x-python",
   "name": "python",
   "nbconvert_exporter": "python",
   "pygments_lexer": "ipython3",
   "version": "3.9.12"
  }
 },
 "nbformat": 4,
 "nbformat_minor": 5
}
