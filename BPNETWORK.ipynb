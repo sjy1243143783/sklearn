{
 "cells": [
  {
   "cell_type": "code",
   "execution_count": 54,
   "metadata": {},
   "outputs": [],
   "source": [
    "import numpy as np"
   ]
  },
  {
   "cell_type": "code",
   "execution_count": 2,
   "metadata": {},
   "outputs": [],
   "source": [
    "#定义Sigmoid函数\n",
    "def Sigmoid(x):\n",
    "    return 1.0 / (1.0+np.exp(-x)) "
   ]
  },
  {
   "cell_type": "code",
   "execution_count": 26,
   "metadata": {},
   "outputs": [],
   "source": [
    "#Sigmoid(0)"
   ]
  },
  {
   "cell_type": "code",
   "execution_count": 169,
   "metadata": {},
   "outputs": [],
   "source": [
    "def bpnetwork(dataset,labels):\n",
    "    #参数设置\n",
    "    max_epochs=6000#最大迭代次数\n",
    "    learn_rate=0.1#学习率\n",
    "    mse_final=6.5e-4#最小误差，迭代结束的条件\n",
    "    sample_number=4#样本的数据\n",
    "    input_number=2#一个样本输入的特征数量\n",
    "    output_number=1#输出的属性\n",
    "    hidden_unit_number=4#隐藏层神经元数量\n",
    "    #隐层阈值\n",
    "    value1 = 0.5*np.random.rand(hidden_unit_number,1)-0.1\n",
    "    #输出层阈值\n",
    "    value2 = 0.5*np.random.rand(output_number,1)-0.1\n",
    "    #输入层与隐层的连接权重\n",
    "    weight1 = 0.5*np.random.rand(hidden_unit_number,input_number)-0.1\n",
    "    \n",
    "    #隐层与输出层的连接权重\n",
    "    weight2 = 0.5*np.random.rand(output_number,hidden_unit_number)-0.1\n",
    "    print(weight2.shape)\n",
    "    mse_history=[]\n",
    "    for i in range(max_epochs):\n",
    "        #fp前向传播\n",
    "        hidden_out=Sigmoid(np.dot(weight1,dataset)+value1)\n",
    "        print(hidden_out.shape)\n",
    "        network_out=np.dot(weight2,hidden_out)+value2\n",
    "        #误差\n",
    "        err=labels-network_out\n",
    "        print(err)\n",
    "        mse=np.average(np.square(err))\n",
    "        mse_history.append(mse)\n",
    "        if mse <mse_final:\n",
    "            break\n",
    "        #bp反向传播\n",
    "        delta2=-err\n",
    "        print(delta2.shape)\n",
    "        delta1=delta2.dot(weight2.T)*hidden_out*(1-hidden_out)#weight2的偏导\n",
    "        # print(delta1.shape)\n",
    "        delta_weight2=np.dot(delta2,hidden_out.transpose())\n",
    "        delta_value2=np.dot(delta2,np.ones((sample_number,1)))\n",
    "        print(delta_weight2)\n",
    "        delta_weight1=np.dot(delta1,dataset.transpose())\n",
    "        delta_value1=np.dot(delta1,np.ones((sample_number,1)))\n",
    "    \n",
    "        #更新\n",
    "        weight2-=0.1*delta_weight2\n",
    "        value2-=learn_rate*delta_value2\n",
    "        weight1-=learn_rate*delta_weight1\n",
    "        value1-=learn_rate*delta_value1\n",
    "\n"
   ]
  },
  {
   "cell_type": "code",
   "execution_count": 170,
   "metadata": {},
   "outputs": [
    {
     "name": "stdout",
     "output_type": "stream",
     "text": [
      "(1, 4)\n",
      "(4, 4)\n",
      "[[-0.80194663 -0.8259496  -0.86244142 -0.83904448]\n",
      " [ 0.19805337  0.1740504   0.13755858  0.16095552]\n",
      " [ 0.19805337  0.1740504   0.13755858  0.16095552]\n",
      " [-0.80194663 -0.8259496  -0.86244142 -0.83904448]]\n",
      "(4, 4)\n",
      "[[ 1.78235897  2.05611294  1.77320481  2.0098231 ]\n",
      " [-0.35498751 -0.41012843 -0.35486667 -0.40380726]\n",
      " [-0.35498751 -0.41012843 -0.35486667 -0.40380726]\n",
      " [ 1.78235897  2.05611294  1.77320481  2.0098231 ]]\n"
     ]
    },
    {
     "ename": "ValueError",
     "evalue": "non-broadcastable output operand with shape (1,4) doesn't match the broadcast shape (4,4)",
     "output_type": "error",
     "traceback": [
      "\u001b[1;31m---------------------------------------------------------------------------\u001b[0m",
      "\u001b[1;31mValueError\u001b[0m                                Traceback (most recent call last)",
      "\u001b[1;32m~\\AppData\\Local\\Temp\\ipykernel_6104\\3717412104.py\u001b[0m in \u001b[0;36m<module>\u001b[1;34m\u001b[0m\n\u001b[0;32m      5\u001b[0m \t\t\t\t[1,0]]).T\n\u001b[0;32m      6\u001b[0m \u001b[0mlabels\u001b[0m\u001b[1;33m=\u001b[0m\u001b[0mnp\u001b[0m\u001b[1;33m.\u001b[0m\u001b[0marray\u001b[0m\u001b[1;33m(\u001b[0m\u001b[1;33m[\u001b[0m\u001b[1;33m[\u001b[0m\u001b[1;36m0\u001b[0m\u001b[1;33m,\u001b[0m\u001b[1;36m1\u001b[0m\u001b[1;33m,\u001b[0m\u001b[1;36m1\u001b[0m\u001b[1;33m,\u001b[0m\u001b[1;36m0\u001b[0m\u001b[1;33m]\u001b[0m\u001b[1;33m]\u001b[0m\u001b[1;33m)\u001b[0m\u001b[1;33m.\u001b[0m\u001b[0mT\u001b[0m\u001b[1;33m\u001b[0m\u001b[1;33m\u001b[0m\u001b[0m\n\u001b[1;32m----> 7\u001b[1;33m \u001b[0mbpnetwork\u001b[0m\u001b[1;33m(\u001b[0m\u001b[0mDataset\u001b[0m\u001b[1;33m,\u001b[0m\u001b[0mlabels\u001b[0m\u001b[1;33m)\u001b[0m\u001b[1;33m\u001b[0m\u001b[1;33m\u001b[0m\u001b[0m\n\u001b[0m",
      "\u001b[1;32m~\\AppData\\Local\\Temp\\ipykernel_6104\\2734419705.py\u001b[0m in \u001b[0;36mbpnetwork\u001b[1;34m(dataset, labels)\u001b[0m\n\u001b[0;32m     43\u001b[0m \u001b[1;33m\u001b[0m\u001b[0m\n\u001b[0;32m     44\u001b[0m         \u001b[1;31m#更新\u001b[0m\u001b[1;33m\u001b[0m\u001b[1;33m\u001b[0m\u001b[0m\n\u001b[1;32m---> 45\u001b[1;33m         \u001b[0mweight2\u001b[0m\u001b[1;33m-=\u001b[0m\u001b[1;36m0.1\u001b[0m\u001b[1;33m*\u001b[0m\u001b[0mdelta_weight2\u001b[0m\u001b[1;33m\u001b[0m\u001b[1;33m\u001b[0m\u001b[0m\n\u001b[0m\u001b[0;32m     46\u001b[0m         \u001b[0mvalue2\u001b[0m\u001b[1;33m-=\u001b[0m\u001b[0mlearn_rate\u001b[0m\u001b[1;33m*\u001b[0m\u001b[0mdelta_value2\u001b[0m\u001b[1;33m\u001b[0m\u001b[1;33m\u001b[0m\u001b[0m\n\u001b[0;32m     47\u001b[0m         \u001b[0mweight1\u001b[0m\u001b[1;33m-=\u001b[0m\u001b[0mlearn_rate\u001b[0m\u001b[1;33m*\u001b[0m\u001b[0mdelta_weight1\u001b[0m\u001b[1;33m\u001b[0m\u001b[1;33m\u001b[0m\u001b[0m\n",
      "\u001b[1;31mValueError\u001b[0m: non-broadcastable output operand with shape (1,4) doesn't match the broadcast shape (4,4)"
     ]
    }
   ],
   "source": [
    "#测试\n",
    "Dataset=np.array([[0,0],\n",
    "\t\t\t\t[0,1],\n",
    "\t\t\t\t[1,1],\n",
    "\t\t\t\t[1,0]]).T\n",
    "labels=np.array([[0,1,1,0]]).T\n",
    "bpnetwork(Dataset,labels)\n"
   ]
  },
  {
   "cell_type": "code",
   "execution_count": 166,
   "metadata": {},
   "outputs": [
    {
     "data": {
      "text/plain": [
       "(2, 4)"
      ]
     },
     "execution_count": 166,
     "metadata": {},
     "output_type": "execute_result"
    }
   ],
   "source": []
  },
  {
   "cell_type": "code",
   "execution_count": null,
   "metadata": {},
   "outputs": [],
   "source": []
  }
 ],
 "metadata": {
  "kernelspec": {
   "display_name": "Python 3.9.15 ('base')",
   "language": "python",
   "name": "python3"
  },
  "language_info": {
   "codemirror_mode": {
    "name": "ipython",
    "version": 3
   },
   "file_extension": ".py",
   "mimetype": "text/x-python",
   "name": "python",
   "nbconvert_exporter": "python",
   "pygments_lexer": "ipython3",
   "version": "3.9.15"
  },
  "orig_nbformat": 4,
  "vscode": {
   "interpreter": {
    "hash": "7758e92e9a61d7a3490898707f7eeb937c85e9d1e8d4e877cc6c187218f226d5"
   }
  }
 },
 "nbformat": 4,
 "nbformat_minor": 2
}
