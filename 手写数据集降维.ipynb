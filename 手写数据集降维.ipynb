{
 "cells": [
  {
   "cell_type": "code",
   "execution_count": null,
   "metadata": {},
   "outputs": [],
   "source": [
    "from sklearn.decomposition import PCA\n",
    "from sklearn.ensemble import RandomForestClassifier as RFC\n",
    "from sklearn.model_selection import cross_val_score\n",
    "import matplotlib.pyplot as plt\n",
    "import pandas as pd\n",
    "import numpy as np\n",
    "data=pd.read_csv(\"E:\\Jupyter_notebooks\\digit recognizor.csv\")\n",
    "X=data.iloc[:,1:]\n",
    "y=data.iloc[:,0]#所有的行，索引为0\n",
    "data\n",
    "min(X.shape)\n",
    "pca_line=PCA().fit(X)\n",
    "\n",
    "pca_line.explained_variance_ratio_\n",
    "#画累计方差贡献率曲线，找最佳降维后维度的范围\n",
    "plt.figure(figsize=[20,5])\n",
    "plt.plot(np.cumsum(pca_line.explained_variance_ratio_))\n",
    "plt.legend()\n",
    "plt.show()\n",
    "\n",
    "#降维后维度的学习曲线，继续缩小最佳维度的范围\n",
    "score=[]\n",
    "for i in range(1,101,10):\n",
    "    X_dr=PCA(i).fit_transform(X)\n",
    "    once=cross_val_score(RFC(n_estimators=10,random_state=0),X_dr,y,cv=5).mean()\n",
    "    score.append(once)\n",
    "plt.figure(figsize=[20,5])\n",
    "plt.plot(range(1,101,10),score)\n",
    "plt.show()\n",
    "#细化学习曲线，找出降维后的最佳维度\n",
    "score=[]\n",
    "for i in range(10,25):\n",
    "    x_dr=PCA(i).fit_transform(X)\n",
    "    once=cross_val_score(RFC(n_estimators=10,random_state=0),x_dr,y,cv=5).mean()\n",
    "    score.append(once)\n",
    "plt.figure(figsize=[20,5])\n",
    "plt.plot(range(10,25),score)\n",
    "plt.show() \n",
    "x_dr=PCA(23).fit_transform(X)\n",
    "score=cross_val_score(RFC(n_estimators=100,random_state=0),x_dr,y,cv=5).mean()\n",
    "score\n",
    "#使用knn算法 pca已经把维度降到23维\n",
    "from sklearn.neighbors import KNeighborsClassifier as KNN\n",
    "cross_val_score(KNN(),x_dr,y,cv=5).mean()\n",
    "#寻找最佳k值\n",
    "score=[]\n",
    "for i in range(10):\n",
    "    x_dr=PCA(23).fit_transform(X)\n",
    "    once=cross_val_score(KNN(i+1),x_dr,y,cv=5).mean()\n",
    "    score.append(once)\n",
    "plt.figure(figsize=[20,5])\n",
    "plt.plot(range(10),score)\n",
    "plt.show()\n",
    "cross_val_score(KNN(3),X_dr,y,cv=5).mean()\n",
    "\n"
   ]
  }
 ],
 "metadata": {
  "kernelspec": {
   "display_name": "Python 3.9.15 ('base')",
   "language": "python",
   "name": "python3"
  },
  "language_info": {
   "codemirror_mode": {
    "name": "ipython",
    "version": 3
   },
   "file_extension": ".py",
   "mimetype": "text/x-python",
   "name": "python",
   "nbconvert_exporter": "python",
   "pygments_lexer": "ipython3",
   "version": "3.9.15"
  },
  "orig_nbformat": 4,
  "vscode": {
   "interpreter": {
    "hash": "7758e92e9a61d7a3490898707f7eeb937c85e9d1e8d4e877cc6c187218f226d5"
   }
  }
 },
 "nbformat": 4,
 "nbformat_minor": 2
}
