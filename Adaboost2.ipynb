{
 "cells": [
  {
   "cell_type": "code",
   "execution_count": 14,
   "id": "e5d21962",
   "metadata": {},
   "outputs": [],
   "source": [
    "import pandas as pd"
   ]
  },
  {
   "cell_type": "code",
   "execution_count": 15,
   "id": "fcb0e9e3",
   "metadata": {},
   "outputs": [],
   "source": [
    "datatest=pd.read_csv(\"horseColicTest2.txt\", sep='\\t', names=[i for i in range(22)])\n",
    "datatrain=pd.read_csv(\"horseColicTraining2.txt\",sep='\\t',names=[i for i in range(22)])"
   ]
  },
  {
   "cell_type": "code",
   "execution_count": 22,
   "id": "e03cb45c",
   "metadata": {},
   "outputs": [
    {
     "data": {
      "text/plain": [
       "0     1.0\n",
       "1     1.0\n",
       "2     1.0\n",
       "3    -1.0\n",
       "4     1.0\n",
       "     ... \n",
       "62    1.0\n",
       "63    1.0\n",
       "64   -1.0\n",
       "65    1.0\n",
       "66   -1.0\n",
       "Name: 21, Length: 67, dtype: float64"
      ]
     },
     "execution_count": 22,
     "metadata": {},
     "output_type": "execute_result"
    }
   ],
   "source": [
    "Xtest=datatest.iloc[:,0:-1]\n",
    "Ytest=datatest.iloc[:,-1]"
   ]
  },
  {
   "cell_type": "code",
   "execution_count": 17,
   "id": "409eefef",
   "metadata": {},
   "outputs": [],
   "source": [
    "Xtrain=datatrain.iloc[:,0:-1]\n",
    "Ytrain=datatrain.iloc[:,-1]"
   ]
  },
  {
   "cell_type": "code",
   "execution_count": 18,
   "id": "32d14dbc",
   "metadata": {},
   "outputs": [
    {
     "data": {
      "text/plain": [
       "0.8208955223880597"
      ]
     },
     "execution_count": 18,
     "metadata": {},
     "output_type": "execute_result"
    }
   ],
   "source": [
    "from sklearn.ensemble import AdaBoostClassifier\n",
    "from sklearn.tree import DecisionTreeClassifier\n",
    "from sklearn.model_selection import cross_val_score\n",
    "clf = AdaBoostClassifier(n_estimators=50, algorithm='SAMME', learning_rate=0.95)\n",
    "clf.fit(Xtrain, Ytrain)\n",
    "clf.score(Xtest, Ytest)"
   ]
  },
  {
   "cell_type": "code",
   "execution_count": null,
   "id": "fdf4c1f1",
   "metadata": {},
   "outputs": [],
   "source": []
  }
 ],
 "metadata": {
  "kernelspec": {
   "display_name": "Python 3 (ipykernel)",
   "language": "python",
   "name": "python3"
  },
  "language_info": {
   "codemirror_mode": {
    "name": "ipython",
    "version": 3
   },
   "file_extension": ".py",
   "mimetype": "text/x-python",
   "name": "python",
   "nbconvert_exporter": "python",
   "pygments_lexer": "ipython3",
   "version": "3.9.13"
  }
 },
 "nbformat": 4,
 "nbformat_minor": 5
}
