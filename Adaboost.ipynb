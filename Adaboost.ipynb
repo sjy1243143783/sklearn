{
 "cells": [
  {
   "cell_type": "code",
   "execution_count": 3,
   "id": "3e2dd992",
   "metadata": {},
   "outputs": [
    {
     "name": "stdout",
     "output_type": "stream",
     "text": [
      "0.7910447761194029\n"
     ]
    }
   ],
   "source": [
    "from sklearn.ensemble import AdaBoostClassifier\n",
    "from sklearn.tree import DecisionTreeClassifier\n",
    "from sklearn.model_selection import cross_val_score\n",
    "import pandas as pd\n",
    "import numpy as np\n",
    "\n",
    "def load_data(path):\n",
    "    data = pd.read_csv(path, sep='\\t', names=[i for i in range(22)])\n",
    "    data = np.array(data).tolist()\n",
    "    x = []; y = []\n",
    "    for i in range(len(data)):\n",
    "        y.append(data[i][-1])\n",
    "        del data[i][-1]\n",
    "        x.append(data[i])\n",
    "\n",
    "    x = np.array(x)\n",
    "    y = np.array(y)\n",
    "\n",
    "    return x, y\n",
    "\n",
    "def AdaBoost():\n",
    "    train_x, train_y = load_data('horseColicTraining2.txt')\n",
    "    test_x, test_y = load_data('horseColicTest2.txt')\n",
    "    #训练\n",
    "    clf = AdaBoostClassifier(base_estimator=DecisionTreeClassifier(max_depth=7, min_samples_leaf=7), n_estimators=100, algorithm='SAMME', learning_rate=0.95)\n",
    "    clf.fit(train_x, train_y)\n",
    "    #测试\n",
    "    print(clf.score(test_x, test_y))\n",
    "\n",
    "\n",
    "if __name__ == '__main__':\n",
    "    AdaBoost()\n"
   ]
  },
  {
   "cell_type": "code",
   "execution_count": null,
   "id": "beaccb18",
   "metadata": {},
   "outputs": [],
   "source": []
  }
 ],
 "metadata": {
  "kernelspec": {
   "display_name": "Python 3 (ipykernel)",
   "language": "python",
   "name": "python3"
  },
  "language_info": {
   "codemirror_mode": {
    "name": "ipython",
    "version": 3
   },
   "file_extension": ".py",
   "mimetype": "text/x-python",
   "name": "python",
   "nbconvert_exporter": "python",
   "pygments_lexer": "ipython3",
   "version": "3.9.13"
  }
 },
 "nbformat": 4,
 "nbformat_minor": 5
}
